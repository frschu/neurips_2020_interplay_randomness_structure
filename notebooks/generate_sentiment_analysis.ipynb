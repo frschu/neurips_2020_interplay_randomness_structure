{
 "cells": [
  {
   "cell_type": "code",
   "execution_count": 3,
   "metadata": {
    "colab": {
     "base_uri": "https://localhost:8080/",
     "height": 72
    },
    "colab_type": "code",
    "executionInfo": {
     "elapsed": 613,
     "status": "ok",
     "timestamp": 1597323763938,
     "user": {
      "displayName": "Fr Schu",
      "photoUrl": "",
      "userId": "09731992798374122010"
     },
     "user_tz": -180
    },
    "id": "2MXJ0aADKNRN",
    "outputId": "b5f6505f-d540-4e9b-c505-a65370f69af4"
   },
   "outputs": [],
   "source": [
    "import random\n",
    "import os\n",
    "import time\n",
    "import warnings\n",
    "import copy\n",
    "import pickle\n",
    "import numpy as np\n",
    "import matplotlib.pyplot as plt\n",
    "\n",
    "import torch\n",
    "from torchtext import data\n",
    "from torchtext import datasets\n",
    "device = torch.device('cuda' if torch.cuda.is_available() else 'cpu')\n",
    "from model_LSTM import RNN\n",
    "\n",
    "# Data directory for saving\n",
    "from data_dir import data_dir as model_dir\n",
    "# Directory for datasets and pretrained word vectors\n",
    "datasets_dir = os.path.join(model_dir, 'sentiment_analysis/data')"
   ]
  },
  {
   "cell_type": "code",
   "execution_count": 3,
   "metadata": {
    "colab": {
     "base_uri": "https://localhost:8080/",
     "height": 72
    },
    "colab_type": "code",
    "executionInfo": {
     "elapsed": 613,
     "status": "ok",
     "timestamp": 1597323763938,
     "user": {
      "displayName": "Fr Schu",
      "photoUrl": "",
      "userId": "09731992798374122010"
     },
     "user_tz": -180
    },
    "id": "2MXJ0aADKNRN",
    "outputId": "b5f6505f-d540-4e9b-c505-a65370f69af4"
   },
   "outputs": [
    {
     "name": "stdout",
     "output_type": "stream",
     "text": [
      "Will save model to \n",
      "  '../../../data/nlp/sentiment_analysis/saved_models\\sst_lstm_nlayers_2_nhid_256_emb_pretrained_fix_dim_100_dropout_05_weight_decay_0000_seed_4724.pt'\n"
     ]
    }
   ],
   "source": [
    "# Parameters\n",
    "# TSM: Tai, Socher, Manning, 2015 for SST-2\n",
    "# Choose dataset\n",
    "DATASET = ['SST', 'IMDB'][0]\n",
    "# Choose pretrained embedding? (GloVe)\n",
    "PRETRAINED_EMB = True       # TSM: T\n",
    "# Scale pretrained embedding by 1/sqrt(N)\n",
    "SCALE_EMB = False\n",
    "# Train the embedding?\n",
    "TRAIN_EMB = False           # TSM: T\n",
    "\n",
    "# Data set and training parameters\n",
    "if DATASET == 'SST':\n",
    "    MAX_VOCAB_SIZE = None   # max: 15431; TSM: None\n",
    "    N_LAYERS = 2            # TSM: 1, 2\n",
    "\n",
    "    RNN_TYPE = 'LSTM'       # TSM: LSTM\n",
    "    BATCH_SIZE = 64         # TSM: 25 (paper) or 5 (github repo)\n",
    "    EMB_DIM = [50, 100, 200, 300][1] # TSM: 300\n",
    "    HIDDEN_DIM = 256       # TSM: 150\n",
    "    G_REC = None\n",
    "    N_EPOCHS = 500\n",
    "    DROPOUT = 0.5\n",
    "\n",
    "    # RNN_TYPE = 'RNN'\n",
    "    # BATCH_SIZE = 64\n",
    "    # EMB_DIM = [50, 100, 200, 300][1] \n",
    "    # HIDDEN_DIM = 1024\n",
    "    # G_REC = None\n",
    "    # N_EPOCHS = 200\n",
    "    # DROPOUT = 0.0 \n",
    "\n",
    "elif DATASET == 'IMDB':\n",
    "    MAX_VOCAB_SIZE = 25_000 # for IMDB\n",
    "    BATCH_SIZE = 64\n",
    "    HIDDEN_DIM = 1024\n",
    "    N_LAYERS = 2\n",
    "    RNN_TYPE = 'LSTM'\n",
    "    N_EPOCHS = 500\n",
    "    EMB_DIM = [50, 100, 200, 300][3]\n",
    "    G_REC = None\n",
    "    DROPOUT = 0.2           # TSM: 0.5\n",
    "# Network parameters\n",
    "BIDIRECTIONAL = False       # TSM: F, T\n",
    "WEIGHT_DECAY = 0            # TSM: 0\n",
    "\n",
    "# Initial weight statistics from previous training?\n",
    "LOAD_WB_STAT = False\n",
    "\n",
    "# Use binary or multiple labels? \n",
    "# Use multiple for SST with neutral labels or SST-5: fine-grained sentiments).\n",
    "BINARY_LABELS = True\n",
    "\n",
    "# Random seed\n",
    "SEED = random.randint(0, 9999)\n",
    "torch.manual_seed(SEED)\n",
    "torch.backends.cudnn.deterministic = True\n",
    "\n",
    "###########################################################################\n",
    "# File name for saved model (model.pt)\n",
    "if G_REC is not None:\n",
    "    g_str = ''.join(('_g_%.1f'%G_REC).split('.'))\n",
    "# Embedding\n",
    "emb_str = '_emb'\n",
    "if PRETRAINED_EMB:\n",
    "    emb_str += \"_pretrained\"\n",
    "else:\n",
    "    emb_str += \"_random\"\n",
    "if SCALE_EMB:\n",
    "    emb_str += \"_scaled\"\n",
    "if TRAIN_EMB:\n",
    "    emb_str += \"_train\"\n",
    "else:\n",
    "    emb_str += \"_fix\"\n",
    "emb_str += '_dim_%d'%EMB_DIM\n",
    "# Regularization\n",
    "dropout_str = ''.join(('_dropout_%.1f'%DROPOUT).split('.'))\n",
    "weight_decay_str = ''.join(('_weight_decay_%.3f'%WEIGHT_DECAY).split('.'))\n",
    "# Join\n",
    "model_name = (DATASET.lower() \n",
    "              + ('_nvocab_' + str(MAX_VOCAB_SIZE) \n",
    "                 if MAX_VOCAB_SIZE is not None else '')\n",
    "              + '_' + RNN_TYPE.lower()\n",
    "              + '_nlayers_%d'%N_LAYERS \n",
    "              + '_nhid_%d'%HIDDEN_DIM \n",
    "              + (g_str if G_REC is not None else '')\n",
    "              + emb_str\n",
    "              + dropout_str\n",
    "              + weight_decay_str\n",
    "              + '_seed_%d'%SEED)\n",
    "model_name += '.pt'\n",
    "SAVE = os.path.join(model_dir, model_name)\n",
    "print(\"Will save model to \\n  '%s'\" % SAVE)"
   ]
  },
  {
   "cell_type": "code",
   "execution_count": 4,
   "metadata": {
    "colab": {
     "base_uri": "https://localhost:8080/",
     "height": 368
    },
    "colab_type": "code",
    "executionInfo": {
     "elapsed": 6022,
     "status": "ok",
     "timestamp": 1597323775100,
     "user": {
      "displayName": "Fr Schu",
      "photoUrl": "",
      "userId": "09731992798374122010"
     },
     "user_tz": -180
    },
    "id": "lAb4oCOsRrxx",
    "outputId": "ca2322c8-33b1-4bf8-d426-55ac402cf4a3"
   },
   "outputs": [
    {
     "name": "stderr",
     "output_type": "stream",
     "text": [
      "C:\\Users\\frsch\\anaconda3\\lib\\site-packages\\torchtext\\data\\field.py:150: UserWarning: Field class will be retired in the 0.8.0 release and moved to torchtext.legacy. Please see 0.7.0 release notes for further information.\n",
      "  warnings.warn('{} class will be retired in the 0.8.0 release and moved to torchtext.legacy. Please see 0.7.0 release notes for further information.'.format(self.__class__.__name__), UserWarning)\n",
      "C:\\Users\\frsch\\anaconda3\\lib\\site-packages\\torchtext\\data\\field.py:150: UserWarning: LabelField class will be retired in the 0.8.0 release and moved to torchtext.legacy. Please see 0.7.0 release notes for further information.\n",
      "  warnings.warn('{} class will be retired in the 0.8.0 release and moved to torchtext.legacy. Please see 0.7.0 release notes for further information.'.format(self.__class__.__name__), UserWarning)\n"
     ]
    },
    {
     "name": "stdout",
     "output_type": "stream",
     "text": [
      "downloading trainDevTestTrees_PTB.zip\n"
     ]
    },
    {
     "name": "stderr",
     "output_type": "stream",
     "text": [
      "datasets\\sst\\trainDevTestTrees_PTB.zip: 100%|██████████| 790k/790k [00:02<00:00, 274kB/s]  \n",
      "C:\\Users\\frsch\\anaconda3\\lib\\site-packages\\torchtext\\data\\example.py:94: UserWarning: Example class will be retired in the 0.8.0 release and moved to torchtext.legacy. Please see 0.7.0 release notes for further information.\n",
      "  warnings.warn('Example class will be retired in the 0.8.0 release and moved to torchtext.legacy. Please see 0.7.0 release notes for further information.', UserWarning)\n"
     ]
    },
    {
     "name": "stdout",
     "output_type": "stream",
     "text": [
      "extracting\n"
     ]
    },
    {
     "name": "stderr",
     "output_type": "stream",
     "text": [
      "C:\\Users\\frsch\\anaconda3\\lib\\site-packages\\torchtext\\data\\example.py:78: UserWarning: Example class will be retired in the 0.8.0 release and moved to torchtext.legacy. Please see 0.7.0 release notes for further information.\n",
      "  warnings.warn('Example class will be retired in the 0.8.0 release and moved to torchtext.legacy. Please see 0.7.0 release notes for further information.', UserWarning)\n",
      "C:\\Users\\frsch\\anaconda3\\lib\\site-packages\\torchtext\\data\\example.py:94: UserWarning: Example class will be retired in the 0.8.0 release and moved to torchtext.legacy. Please see 0.7.0 release notes for further information.\n",
      "  warnings.warn('Example class will be retired in the 0.8.0 release and moved to torchtext.legacy. Please see 0.7.0 release notes for further information.', UserWarning)\n"
     ]
    },
    {
     "name": "stdout",
     "output_type": "stream",
     "text": [
      "\n",
      "Number of training examples: 6920\n",
      "Number of validation examples: 872\n",
      "Number of testing examples: 1821\n",
      "\n",
      "Total number of words in training dataset: 138,260\n",
      "Average sentence length: 20.0 words.\n",
      "\n",
      "Example sentence (len = 39):\n",
      "The Rock is destined to be the 21st Century 's new ` ` Conan '' and that he 's going to make a splash even greater than Arnold Schwarzenegger , Jean - Claud Van Damme or Steven Segal .\n"
     ]
    }
   ],
   "source": [
    "# Define how the dataset is split. \n",
    "# Tokenize = act of splitting the string into discrete 'tokens'.\n",
    "# Include length for packed padded sequences\n",
    "TEXT = data.Field(tokenize ='spacy', include_lengths=True)\n",
    "if BINARY_LABELS:\n",
    "    LABEL = data.LabelField(dtype=torch.float)\n",
    "else:\n",
    "    LABEL = data.LabelField()\n",
    "\n",
    "# Load dataset (downloads first if not provided).\n",
    "if DATASET == 'SST':\n",
    "    train_data, valid_data, test_data = datasets.SST.splits(TEXT, LABEL, \n",
    "        root=datasets_dir, fine_grained=False, filter_pred=lambda ex: ex.label != 'neutral')\n",
    "elif DATASET == 'IMDB':\n",
    "    train_data, test_data = datasets.IMDB.splits(TEXT, LABEL, root=datasets_dir)\n",
    "    print('   Loading dataset complete.')\n",
    "    # Split train into train and validation set\n",
    "    train_data, valid_data = train_data.split(random_state=random.seed(SEED))\n",
    "else:\n",
    "    raise NotImplementedError()\n",
    "\n",
    "# Understand the dataset\n",
    "print(f'\\nNumber of training examples: {len(train_data)}')\n",
    "print(f'Number of validation examples: {len(valid_data)}')\n",
    "print(f'Number of testing examples: {len(test_data)}')\n",
    "\n",
    "# Total number of words in the entire dataset (counting doubles)\n",
    "n_total_words = 0\n",
    "for ex in train_data.examples:\n",
    "    n_total_words += len(ex.text)\n",
    "print(f'\\nTotal number of words in training dataset: {n_total_words:,}')\n",
    "print(\"Average sentence length: %.1f words.\" % (n_total_words / len(train_data)))\n",
    "\n",
    "# One example sentence\n",
    "ex = train_data.examples[0].text\n",
    "print(\"\\nExample sentence (len = %d):\" % len(ex))\n",
    "print(' '.join(ex))"
   ]
  },
  {
   "cell_type": "code",
   "execution_count": null,
   "metadata": {
    "colab": {},
    "colab_type": "code",
    "executionInfo": {
     "elapsed": 5023,
     "status": "ok",
     "timestamp": 1597323775103,
     "user": {
      "displayName": "Fr Schu",
      "photoUrl": "",
      "userId": "09731992798374122010"
     },
     "user_tz": -180
    },
    "id": "9Tzs2gfLRoMm"
   },
   "outputs": [],
   "source": []
  },
  {
   "cell_type": "code",
   "execution_count": 4,
   "metadata": {
    "colab": {
     "base_uri": "https://localhost:8080/",
     "height": 625
    },
    "colab_type": "code",
    "executionInfo": {
     "elapsed": 6082,
     "status": "ok",
     "timestamp": 1597323776642,
     "user": {
      "displayName": "Fr Schu",
      "photoUrl": "",
      "userId": "09731992798374122010"
     },
     "user_tz": -180
    },
    "id": "KQDIWM50-uOe",
    "outputId": "fe8b6ff5-e1d8-4955-d65f-f292f4c866c2"
   },
   "outputs": [
    {
     "name": "stderr",
     "output_type": "stream",
     "text": [
      "100%|█████████▉| 399999/400000 [00:26<00:00, 15211.16it/s]\n"
     ]
    },
    {
     "name": "stdout",
     "output_type": "stream",
     "text": [
      "Full length of vocab without capping at MAX_VOCAB_SIZE: 101,626\n",
      "Unique tokens in TEXT vocabulary: 25,002\n",
      "Unique tokens in LABEL vocabulary: 2\n",
      "LABELS: defaultdict(None, {'pos': 0, 'neg': 1})\n",
      "\n",
      "First 10 words of entire vocab:\n",
      "[['the' '202928']\n",
      " [',' '192692']\n",
      " ['.' '166088']\n",
      " ['and' '109604']\n",
      " ['a' '108799']\n",
      " ['of' '100715']\n",
      " ['to' '93410']\n",
      " ['is' '76641']\n",
      " ['in' '61096']\n",
      " ['I' '54128']]\n",
      "\n",
      "Last 5 words included in the vocab:\n",
      "[['TRULY' '6']\n",
      " ['CAUSE' '6']\n",
      " ['warmer' '6']\n",
      " ['Thirty' '6']\n",
      " ['proclaiming' '6']]\n",
      "\n",
      "Last 5 words of entire vocab:\n",
      "[['straddled' '1']\n",
      " ['generated.<br' '1']\n",
      " ['/>\"Kinjite' '1']\n",
      " ['implied).<br' '1']\n",
      " ['Mechanic' '1']]\n"
     ]
    },
    {
     "name": "stderr",
     "output_type": "stream",
     "text": [
      "/home/fs/gpu_ml_env/lib/python3.8/site-packages/torchtext/data/iterator.py:48: UserWarning: BucketIterator class will be retired in the 0.8.0 release and moved to torchtext.legacy. Please see 0.7.0 release notes for further information.\n",
      "  warnings.warn('{} class will be retired in the 0.8.0 release and moved to torchtext.legacy. Please see 0.7.0 release notes for further information.'.format(self.__class__.__name__), UserWarning)\n"
     ]
    }
   ],
   "source": [
    "# Build a vocabulary from training data. \n",
    "# Limit the max size of vocabulary (otherwise > 100,000).\n",
    "\n",
    "# # Randomly initialized:\n",
    "if PRETRAINED_EMB:\n",
    "    # Pretrained word embeddings (~1 GB to download!)\n",
    "    TEXT.build_vocab(train_data, \n",
    "                     max_size=MAX_VOCAB_SIZE, \n",
    "                     vectors=\"glove.6B.%dd\"%EMB_DIM, \n",
    "                     vectors_cache=datasets_dir,\n",
    "                     unk_init=torch.Tensor.normal_)\n",
    "else:\n",
    "    TEXT.build_vocab(train_data, max_size=MAX_VOCAB_SIZE)\n",
    "\n",
    "LABEL.build_vocab(train_data)\n",
    "\n",
    "# Create iterators over datasets\n",
    "# The BucketIterator will return batches with examples of similar lengths to minimize padding. \n",
    "train_iterator, valid_iterator, test_iterator = data.BucketIterator.splits(\n",
    "    (train_data, valid_data, test_data), \n",
    "    batch_size=BATCH_SIZE,\n",
    "    sort_within_batch=True,\n",
    "    device=device)\n",
    "\n",
    "# For the vocabulary, note that there are 2 extra tokens, for <unk> and <pad>.\n",
    "print(f\"Full length of vocab without capping at \"\n",
    "      + f\"MAX_VOCAB_SIZE: {len(TEXT.vocab.freqs.most_common()):,}\")\n",
    "print(f\"Unique tokens in TEXT vocabulary: {len(TEXT.vocab):,}\")\n",
    "print(f\"Unique tokens in LABEL vocabulary: {len(LABEL.vocab):,}\")\n",
    "print(\"LABELS:\", LABEL.vocab.stoi)\n",
    "\n",
    "assert BINARY_LABELS == (len(LABEL.vocab.stoi) == 2), '\\n\\nLabels are not binary!\\n'\n",
    "\n",
    "# Print most and least common words\n",
    "n_show = 10\n",
    "print(\"\\nFirst %d words of entire vocab:\"%n_show)\n",
    "print(np.array(TEXT.vocab.freqs.most_common(n_show)))\n",
    "n_show = 5\n",
    "print(\"\\nLast %d words included in the vocab:\"%n_show)\n",
    "print(np.array(TEXT.vocab.freqs.most_common(MAX_VOCAB_SIZE)[-n_show:]))\n",
    "print(\"\\nLast %d words of entire vocab:\"%n_show)\n",
    "print(np.array(TEXT.vocab.freqs.most_common()[-n_show:]))"
   ]
  },
  {
   "cell_type": "code",
   "execution_count": null,
   "metadata": {
    "colab": {},
    "colab_type": "code",
    "executionInfo": {
     "elapsed": 5837,
     "status": "ok",
     "timestamp": 1597323776643,
     "user": {
      "displayName": "Fr Schu",
      "photoUrl": "",
      "userId": "09731992798374122010"
     },
     "user_tz": -180
    },
    "id": "Vye2ZWQWXbe5"
   },
   "outputs": [],
   "source": []
  },
  {
   "cell_type": "code",
   "execution_count": 5,
   "metadata": {
    "colab": {
     "base_uri": "https://localhost:8080/",
     "height": 54
    },
    "colab_type": "code",
    "executionInfo": {
     "elapsed": 5479,
     "status": "ok",
     "timestamp": 1597323776644,
     "user": {
      "displayName": "Fr Schu",
      "photoUrl": "",
      "userId": "09731992798374122010"
     },
     "user_tz": -180
    },
    "id": "uT-S2nsb-uOq",
    "outputId": "a4cb1dc1-e9ba-4120-d734-25395aedecd0"
   },
   "outputs": [
    {
     "name": "stdout",
     "output_type": "stream",
     "text": [
      "\n",
      "The model has 13,829,121 trainable parameters\n"
     ]
    }
   ],
   "source": [
    "# Create RNN instance\n",
    "INPUT_DIM = len(TEXT.vocab)\n",
    "if BINARY_LABELS:\n",
    "    OUTPUT_DIM = 1\n",
    "else:\n",
    "    OUTPUT_DIM = len(LABEL.vocab)\n",
    "PAD_IDX = TEXT.vocab.stoi[TEXT.pad_token]\n",
    "\n",
    "# Instantiate\n",
    "model = RNN(RNN_TYPE, INPUT_DIM, EMB_DIM, HIDDEN_DIM, OUTPUT_DIM, N_LAYERS, \n",
    "            BIDIRECTIONAL, DROPOUT, PAD_IDX, TRAIN_EMB)\n",
    "def count_parameters(model):\n",
    "    return sum(p.numel() for p in model.parameters() if p.requires_grad)\n",
    "print(f'\\nThe model has {count_parameters(model):,} trainable parameters')\n",
    "\n",
    "# Embedding\n",
    "if PRETRAINED_EMB:\n",
    "    # Apply pretrained embeddings\n",
    "    pretrained_embeddings = TEXT.vocab.vectors\n",
    "    model.encoder.weight.data.copy_(pretrained_embeddings)\n",
    "if SCALE_EMB:\n",
    "    model.encoder.weight.data *= 1 / np.sqrt(HIDDEN_DIM)\n",
    "# Initialize <unk> and <pad> to zero:\n",
    "UNK_IDX = TEXT.vocab.stoi[TEXT.unk_token]\n",
    "model.encoder.weight.data[UNK_IDX] = torch.zeros(EMB_DIM)\n",
    "model.encoder.weight.data[PAD_IDX] = torch.zeros(EMB_DIM)\n",
    "# print(model.embedding.weight.data)\n",
    "\n",
    "# RNN and decoder\n",
    "if LOAD_WB_STAT:\n",
    "    # Choose file\n",
    "    wb_stat_name = 'sst_emb_pretrained_scaled_fix_dim_300_lstm_nlayers_1_nhid_150_dropout_05_seed_1234'\n",
    "    # Load and set weights\n",
    "    wb_stat_file = os.path.join(model_dir, wb_stat_name)\n",
    "    with open(args.wb_stat_file, 'rb') as f:\n",
    "        wb_stat = pickle.load(f)  \n",
    "    for key, param in model.named_parameters():\n",
    "        if 'encoder' in key:\n",
    "            # Leave as is!\n",
    "            pass \n",
    "        elif 'rnn' in key:\n",
    "            # RNN weights and biases come in blocks of n_rnn * N x N. Separate these blocks.\n",
    "            for k, key_rnn in enumerate(model.keys_rnn):\n",
    "                wb_mean, wb_std = wb_stat[key][key_rnn]\n",
    "                mul = param.shape[0] // model.n_rnn\n",
    "                sub_w = param[k*mul : (k+1)*mul]\n",
    "                sub_w.data.normal_(wb_mean, wb_std)\n",
    "                print(key, key_rnn, ' ', wb_mean, wb_std)\n",
    "        elif 'decoder' in key:\n",
    "            wb_mean, wb_std = wb_stat[key]\n",
    "            param.data.normal_(wb_mean, wb_std)\n",
    "            print(key, ' ', wb_mean, wb_std)\n",
    "elif G_REC is not None:\n",
    "    # Recurrent weights\n",
    "    for key, param in model.rnn.named_parameters():\n",
    "        if 'weight' in key:\n",
    "            # Input vs. recurrent\n",
    "            hh_or_ih, layer_str = key.split('_')[1:]\n",
    "            layer = int(layer_str[1:])\n",
    "            # Input layer: scale by 1/sqrt(embedding_dim)\n",
    "            print(hh_or_ih, layer)\n",
    "            if hh_or_ih == 'ih' and layer == 0:\n",
    "                param.data.normal_(0, 1. / np.sqrt(model.embedding_dim))\n",
    "            else:\n",
    "                # LSTM and GRU cells have combined weights for the effect of the\n",
    "                # last hidden state on the new state and the gates. \n",
    "                # We scale only the hidden-to-hidden weights ('hh') by\n",
    "                # a factor g controlling the radius of the spectrum.\n",
    "                for k, key_rnn in enumerate(model.keys_rnn):\n",
    "                    mul = param.shape[0] // model.n_states\n",
    "                    sub_w = param[k*mul : (k+1)*mul]\n",
    "                    if hh_or_ih == 'hh' and key_rnn == 'c':\n",
    "                        # Scale only the recurrent state weights by g\n",
    "                        sub_w.data.normal_(0, G_REC / np.sqrt(model.hidden_dim))\n",
    "                    else:\n",
    "                        sub_w.data.normal_(0, 1. / np.sqrt(model.hidden_dim))\n",
    "        else:\n",
    "            # Biases are set to zero by default. \n",
    "            pass\n",
    "            \n",
    "        # # Decoder: leave as is...\n",
    "        # decoder_max = math.sqrt(3 / model.hidden_dim)\n",
    "        # model.decoder.weight.data.uniform_(-decoder_max, decoder_max)\n",
    "        # model.decoder.bias.data.zero_()\n",
    "else:\n",
    "    # Use standard initialization, but rescale the input weights of layer 0. \n",
    "    # model.rnn.weight_ih_l0.data.uniform_(0, 1. / np.sqrt(model.embedding_dim))\n",
    "    a = 1. / np.sqrt(model.embedding_dim)\n",
    "    model.rnn.weight_ih_l0.data.uniform_(-a, a)\n",
    "\n",
    "# Save the initial model connectivity\n",
    "state_dict_init = copy.deepcopy(model.state_dict())\n",
    "\n",
    "# Move model to GPU before choosing the optimizer\n",
    "model = model.to(device)\n"
   ]
  },
  {
   "cell_type": "code",
   "execution_count": 6,
   "metadata": {
    "colab": {},
    "colab_type": "code",
    "executionInfo": {
     "elapsed": 5245,
     "status": "ok",
     "timestamp": 1597323776644,
     "user": {
      "displayName": "Fr Schu",
      "photoUrl": "",
      "userId": "09731992798374122010"
     },
     "user_tz": -180
    },
    "id": "j4PjVbDGCXlv"
   },
   "outputs": [],
   "source": [
    "# Training\n",
    "import torch.optim as optim\n",
    "import torch.nn as nn\n",
    "\n",
    "# Choose optimizer\n",
    "# optimizer = optim.SGD(model.parameters(), lr=1e-3)\n",
    "# optimizer = optim.Adagrad(model.parameters(), lr=0.05)\n",
    "# optimizer = optim.Adam(model.parameters())\n",
    "\n",
    "# Learning rate for adam should be scaled by network size!\n",
    "lr0 = 0.01\n",
    "lr = lr0 / HIDDEN_DIM\n",
    "optimizer = optim.Adam(model.parameters(), lr=lr, weight_decay=WEIGHT_DECAY)\n",
    "\n",
    "if BINARY_LABELS:\n",
    "    # Binary cross-entropy loss with logits\n",
    "    criterion = nn.BCEWithLogitsLoss().to(device)\n",
    "    # Binary accuracy\n",
    "    def accuracy(preds, y):\n",
    "        #round predictions to the closest integer\n",
    "        rounded_preds = torch.round(torch.sigmoid(preds))\n",
    "        correct = (rounded_preds == y).float() #convert into float for division \n",
    "        acc = correct.sum() / len(correct)\n",
    "        return acc\n",
    "else:\n",
    "    # Cross-entropy loss\n",
    "    criterion = nn.CrossEntropyLoss().to(device)\n",
    "    # Categorical accuracy\n",
    "    def accuracy(preds, y):\n",
    "        \"\"\" Categorical accuracy for multiple classes.\"\"\"\n",
    "        max_preds = preds.argmax(dim=1, keepdim=True) # get the index of the max probability\n",
    "        correct = max_preds.squeeze(1).eq(y)\n",
    "        return correct.sum() / torch.FloatTensor([y.shape[0]]).to(device)\n",
    "\n",
    "def train(model, iterator, optimizer, criterion):\n",
    "    epoch_loss = 0\n",
    "    epoch_acc = 0\n",
    "    model.train()\n",
    "    for batch in iterator:\n",
    "        optimizer.zero_grad()\n",
    "        predictions = model(batch.text)\n",
    "        loss = criterion(predictions, batch.label)\n",
    "        acc = accuracy(predictions, batch.label)\n",
    "        loss.backward()\n",
    "        optimizer.step()\n",
    "        epoch_loss += loss.item()\n",
    "        epoch_acc += acc.item()\n",
    "    return epoch_loss / len(iterator), epoch_acc / len(iterator)\n",
    "\n",
    "def evaluate(model, iterator, criterion):\n",
    "    epoch_loss = 0\n",
    "    epoch_acc = 0\n",
    "    model.eval()\n",
    "    with torch.no_grad():\n",
    "        for batch in iterator:\n",
    "            predictions = model(batch.text)\n",
    "            loss = criterion(predictions, batch.label)\n",
    "            acc = accuracy(predictions, batch.label)\n",
    "            epoch_loss += loss.item()\n",
    "            epoch_acc += acc.item()\n",
    "    return epoch_loss / len(iterator), epoch_acc / len(iterator)\n",
    "\n",
    "def epoch_time(start_time, end_time):\n",
    "    elapsed_time = end_time - start_time\n",
    "    elapsed_mins = int(elapsed_time / 60)\n",
    "    elapsed_secs = int(elapsed_time - (elapsed_mins * 60))\n",
    "    return elapsed_mins, elapsed_secs"
   ]
  },
  {
   "cell_type": "code",
   "execution_count": null,
   "metadata": {
    "colab": {
     "base_uri": "https://localhost:8080/",
     "height": 625
    },
    "colab_type": "code",
    "id": "RB39dWFDT4L_",
    "outputId": "e1316be3-8a53-45dc-e51b-2a82e50d415d"
   },
   "outputs": [
    {
     "name": "stderr",
     "output_type": "stream",
     "text": [
      "/home/fs/gpu_ml_env/lib/python3.8/site-packages/torchtext/data/batch.py:23: UserWarning: Batch class will be retired in the 0.8.0 release and moved to torchtext.legacy. Please see 0.7.0 release notes for further information.\n",
      "  warnings.warn('{} class will be retired in the 0.8.0 release and moved to torchtext.legacy. Please see 0.7.0 release notes for further information.'.format(self.__class__.__name__), UserWarning)\n"
     ]
    },
    {
     "name": "stdout",
     "output_type": "stream",
     "text": [
      "Epoch: 01 | Epoch Time: 1m 4s\n",
      "\tTrain Loss: 0.693 | Train Acc: 50.73%\n",
      "\t Val. Loss: 0.693 |  Val. Acc: 49.30%\n"
     ]
    }
   ],
   "source": [
    "# Run training\n",
    "best_valid_loss = float('inf')\n",
    "train_losses, valid_losses = np.zeros((2, N_EPOCHS))\n",
    "loss_acc = np.zeros((N_EPOCHS, 4))\n",
    "for epoch in range(N_EPOCHS):\n",
    "    start_time = time.time()\n",
    "    train_loss, train_acc = train(model, train_iterator, optimizer, criterion)\n",
    "    valid_loss, valid_acc = evaluate(model, valid_iterator, criterion)\n",
    "    end_time = time.time()\n",
    "    epoch_mins, epoch_secs = epoch_time(start_time, end_time)\n",
    "\n",
    "    # Save losses and accuracy\n",
    "    loss_acc[epoch] = train_loss, valid_loss, train_acc, valid_acc\n",
    "\n",
    "    # # Save the best model so far\n",
    "    # if valid_loss < best_valid_loss:\n",
    "    #     best_valid_loss = valid_loss\n",
    "    #     state_dict_best = copy.deepcopy(model.state_dict())\n",
    "    \n",
    "    show_step = N_EPOCHS // 20\n",
    "    if (epoch + 1) % show_step == 0 or epoch == 0:\n",
    "        print(f'Epoch: {epoch+1:02} | Epoch Time: {epoch_mins}m {epoch_secs}s')\n",
    "        print(f'\\tTrain Loss: {train_loss:.3f} | Train Acc: {train_acc*100:.2f}%')\n",
    "        print(f'\\t Val. Loss: {valid_loss:.3f} |  Val. Acc: {valid_acc*100:.2f}%')\n",
    "        # Save\n",
    "        state_dict_final = model.state_dict()\n",
    "        with open(SAVE, 'wb') as f:\n",
    "            torch.save({'state_dict_init': state_dict_init,\n",
    "                        'state_dict_final': state_dict_final,\n",
    "                        'loss_acc': loss_acc,\n",
    "                        }, f)\n",
    "\n",
    "\n",
    "#######################################################################        \n",
    "# Save the initial and last model\n",
    "state_dict_final = model.state_dict()\n",
    "with open(SAVE, 'wb') as f:\n",
    "    torch.save({'state_dict_init': state_dict_init,\n",
    "                'state_dict_final': state_dict_final,\n",
    "                'loss_acc': loss_acc,\n",
    "                }, f)\n",
    "# print(\"Saved last model to '%s'\" % SAVE)\n",
    "print(\"Saved initial and final model to '%s'\" % SAVE)\n",
    "# print(\"Saved best model to '%s'\" % SAVE)\n",
    "\n",
    "# Save the initial and last model\n",
    "state_dict_final = model.state_dict()\n",
    "with open(SAVE, 'wb') as f:\n",
    "    torch.save({'state_dict_init': state_dict_init,\n",
    "                'state_dict_final': state_dict_final,\n",
    "                'loss_acc': loss_acc,\n",
    "                }, f)\n",
    "# print(\"Saved last model to '%s'\" % SAVE)\n",
    "print(\"Saved initial and final model to '%s'\" % SAVE)\n",
    "\n",
    "# Plot loss and accuracy over training epochs\n",
    "fig = plt.figure(figsize=(6, 6), facecolor='w')\n",
    "axes = fig.subplots(2, 1)\n",
    "axes = axes[:, None]\n",
    "epochs = np.arange(N_EPOCHS)\n",
    "train_loss, valid_loss, train_acc, valid_acc = loss_acc.T\n",
    "ax = axes[0, 0]\n",
    "ax.plot(epochs, train_loss, label='train')\n",
    "ax.plot(epochs, valid_loss, label='valid')\n",
    "ax.axhline(0, c='0.5', zorder=-1)\n",
    "ax.legend()\n",
    "ax.set_ylabel('Loss')\n",
    "ax = axes[1, 0]\n",
    "ax.plot(epochs, train_acc, label='train')\n",
    "ax.plot(epochs, valid_acc, label='valid')\n",
    "ax.axhline(0, c='0.5', zorder=-1)\n",
    "ax.set_ylabel('Accuracy')\n",
    "plt.show(fig)\n",
    "plt.close(fig)"
   ]
  },
  {
   "cell_type": "code",
   "execution_count": null,
   "metadata": {
    "colab": {},
    "colab_type": "code",
    "id": "nN4y_EfmUSqk"
   },
   "outputs": [],
   "source": []
  },
  {
   "cell_type": "code",
   "execution_count": null,
   "metadata": {
    "colab": {},
    "colab_type": "code",
    "id": "4FSmXtxwgGnO"
   },
   "outputs": [],
   "source": []
  },
  {
   "cell_type": "code",
   "execution_count": null,
   "metadata": {
    "colab": {},
    "colab_type": "code",
    "id": "VKX2UIA8Ll0B"
   },
   "outputs": [],
   "source": [
    "from collections import OrderedDict\n",
    "\n",
    "# Evaluate truncated networks\n",
    "max_rank = HIDDEN_DIM\n",
    "# rank_step = HIDDEN_DIM // 128\n",
    "rank_step = 1\n",
    "trunc_ranks = np.arange(0, max_rank, rank_step)\n",
    "n_rank = len(trunc_ranks)\n",
    "\n",
    "# Keys\n",
    "keys_rnn = model.keys_rnn\n",
    "n_states = len(keys_rnn)\n",
    "nhid = HIDDEN_DIM \n",
    "\n",
    "svd_blockwise = False\n",
    "\n",
    "############################################################################\n",
    "trunc_loss_acc = np.zeros((2, n_rank, 2))\n",
    "\n",
    "time0 = time.time()\n",
    "for j in range(2):\n",
    "    trunc_dw = j == 0\n",
    "    for i, rank in enumerate(trunc_ranks):\n",
    "        print(j, i, rank)\n",
    "\n",
    "        # Weights and biases for truncated model\n",
    "        state_dict_trunc = OrderedDict()\n",
    "        \n",
    "        # Weights\n",
    "        for key in state_dict_final.keys():\n",
    "            # Truncate only 'inner' weights with NxN\n",
    "            cond_trunc = (\n",
    "                ('rnn.weight' in key) \n",
    "                * (('hh' in key) or ('ih' in key))\n",
    "                * (not 'ih_l0' in key))\n",
    "            if cond_trunc:\n",
    "                # print(\"Truncate\", key)\n",
    "                if svd_blockwise:\n",
    "                    # LSTM and GRU cells have combined weights for the effect of the\n",
    "                    # last hidden state on the new state and the gates. \n",
    "                    w_trunc_rnn = np.zeros((n_states * nhid, nhid))\n",
    "                    for k, key_rnn in enumerate(keys_rnn):\n",
    "                        # Get weights\n",
    "                        w = state_dict_final[key][k*nhid : (k+1)*nhid]\n",
    "                        # Move to cpu\n",
    "                        w = w.cpu()\n",
    "                        if trunc_dw:\n",
    "                            # Obtain changes\n",
    "                            w0 = state_dict_init[key][k*nhid : (k+1)*nhid]\n",
    "                            w0 = w0.cpu()\n",
    "                            dw = w - w0\n",
    "                            # Truncate dw at given rank:\n",
    "                            u, s, vT = np.linalg.svd(dw, full_matrices=False)\n",
    "                            dw_trunc = (u[:, :rank] * s[None, :rank]) @ vT[:rank]\n",
    "                            # Unite with initial connecitivity\n",
    "                            w_trunc_rnn[k*nhid : (k+1)*nhid] = w0 + dw_trunc\n",
    "                        else:\n",
    "                            # Truncate w at given rank:\n",
    "                            u, s, vT = np.linalg.svd(w, full_matrices=False)\n",
    "                            w_trunc = (u[:, :rank] * s[None, :rank]) @ vT[:rank]\n",
    "                            w_trunc_rnn[k*nhid : (k+1)*nhid] = w_trunc\n",
    "                    # Add to state dict\n",
    "                    w_trunc_rnn = torch.from_numpy(w_trunc_rnn).cuda()\n",
    "                    state_dict_trunc[key] = w_trunc_rnn\n",
    "                else:\n",
    "                    # Get weights\n",
    "                    w = state_dict_final[key]\n",
    "                    # Move to cpu\n",
    "                    w = w.cpu()\n",
    "                    if trunc_dw:\n",
    "                        # Obtain changes\n",
    "                        w0 = state_dict_init[key]\n",
    "                        w0 = w0.cpu()\n",
    "                        dw = w - w0\n",
    "                        # Truncate dw at given rank:\n",
    "                        u, s, vT = np.linalg.svd(dw, full_matrices=False)\n",
    "                        dw_trunc = (u[:, :rank] * s[None, :rank]) @ vT[:rank]\n",
    "                        # Unite with initial connecitivity\n",
    "                        w_trunc_rnn = w0.numpy() + dw_trunc\n",
    "                    else:\n",
    "                        # Truncate w at given rank:\n",
    "                        u, s, vT = np.linalg.svd(w, full_matrices=False)\n",
    "                        w_trunc = (u[:, :rank] * s[None, :rank]) @ vT[:rank]\n",
    "                        w_trunc_rnn = w_trunc\n",
    "                # Add to state dict\n",
    "                w_trunc_rnn = torch.from_numpy(w_trunc_rnn).cuda()\n",
    "                state_dict_trunc[key] = w_trunc_rnn\n",
    "            else:\n",
    "                # print(\"Leave\", key)\n",
    "                state_dict_trunc[key] = copy.deepcopy(state_dict_final[key])\n",
    "        \n",
    "        # Define truncated model\n",
    "        model_trunc = RNN(RNN_TYPE, INPUT_DIM, EMB_DIM, HIDDEN_DIM, OUTPUT_DIM, \n",
    "                          N_LAYERS, BIDIRECTIONAL, DROPOUT, PAD_IDX, TRAIN_EMB)\n",
    "        model_trunc.load_state_dict(state_dict_trunc)\n",
    "        # Evaluate\n",
    "        model_trunc.to(device)\n",
    "        trunc_loss_acc[j, i] = evaluate(model_trunc, valid_iterator, criterion)\n",
    "        del model_trunc\n",
    "print('Computing truncation loss took %.1f sec.' % (time.time() - time0))\n",
    "\n",
    "\n",
    "# Save everything\n",
    "state_dict_final = model.state_dict()\n",
    "with open(SAVE, 'wb') as f:\n",
    "    torch.save({'state_dict_init': state_dict_init,\n",
    "                'state_dict_final': state_dict_final,\n",
    "                'loss_acc': loss_acc,\n",
    "                'trunc_loss_acc': trunc_loss_acc,\n",
    "                'trunc_ranks': trunc_ranks,\n",
    "                'svd_blockwise': svd_blockwise,\n",
    "                }, f)\n",
    "# print(\"Saved last model to '%s'\" % SAVE)\n",
    "print(\"Saved initial and final model to '%s'\" % SAVE)"
   ]
  },
  {
   "cell_type": "code",
   "execution_count": null,
   "metadata": {
    "colab": {},
    "colab_type": "code",
    "id": "Y-wfE8bTaidk"
   },
   "outputs": [],
   "source": [
    "# Plot loss and accuracy over training epochs\n",
    "fig = plt.figure(figsize=(6, 6), facecolor='w')\n",
    "axes = fig.subplots(2, 1, sharex=True)\n",
    "axes = axes[:, None]\n",
    "epochs = np.arange(N_EPOCHS)\n",
    "train_loss, valid_loss, train_acc, valid_acc = loss_acc.T\n",
    "\n",
    "ax0, ax1 = axes[:, 0]\n",
    "\n",
    "for j in range(2):\n",
    "    # ls = ['-', '--'][j]\n",
    "    ls = '-'\n",
    "    lbl = ['Truncate dw', 'Truncate w'][j]\n",
    "    c = ['0.3', '0.8'][j]\n",
    "\n",
    "    trunc_loss, trunc_acc = trunc_loss_acc[j].T\n",
    "    ax0.plot(trunc_ranks, trunc_loss, ls, c=c, label=lbl)\n",
    "    ax1.plot(trunc_ranks, trunc_acc, ls, c=c, label=lbl)\n",
    "\n",
    "# Initial and final loss and accuracy\n",
    "c = '0.5'\n",
    "ax0.axhline(valid_loss[0], ls='--', c=c, label='Initial')\n",
    "ax1.axhline(valid_acc[0], ls=':', c=c, label='Initial')\n",
    "ax0.axhline(valid_loss[-1], ls='--', c=c, label='Final')\n",
    "ax1.axhline(valid_acc[-1], ls=':', c=c, label='Final')\n",
    "\n",
    "ax0.legend()\n",
    "# ax0.axhline(0, c='0.5', zorder=-1)\n",
    "# ax1.axhline(0, c='0.5', zorder=-1)\n",
    "ax0.set_ylabel('Loss')\n",
    "ax1.set_ylabel('Accuracy')\n",
    "ax1.set_xlabel(\"Truncation rank\")\n",
    "\n",
    "plt.show(fig)\n",
    "plt.close(fig)"
   ]
  },
  {
   "cell_type": "code",
   "execution_count": null,
   "metadata": {
    "colab": {},
    "colab_type": "code",
    "id": "HXzD-MitVstx"
   },
   "outputs": [],
   "source": []
  },
  {
   "cell_type": "code",
   "execution_count": null,
   "metadata": {
    "colab": {},
    "colab_type": "code",
    "id": "NRmNEmztakGp"
   },
   "outputs": [],
   "source": []
  },
  {
   "cell_type": "code",
   "execution_count": null,
   "metadata": {
    "colab": {},
    "colab_type": "code",
    "id": "IFeWrLUrakJk"
   },
   "outputs": [],
   "source": []
  },
  {
   "cell_type": "code",
   "execution_count": null,
   "metadata": {
    "colab": {},
    "colab_type": "code",
    "id": "VaCYSvajakMx"
   },
   "outputs": [],
   "source": []
  },
  {
   "cell_type": "code",
   "execution_count": null,
   "metadata": {
    "colab": {},
    "colab_type": "code",
    "id": "gjcH1W1HakPj"
   },
   "outputs": [],
   "source": []
  },
  {
   "cell_type": "code",
   "execution_count": null,
   "metadata": {
    "colab": {},
    "colab_type": "code",
    "id": "f0TyyDQXakeQ"
   },
   "outputs": [],
   "source": []
  },
  {
   "cell_type": "code",
   "execution_count": null,
   "metadata": {
    "colab": {},
    "colab_type": "code",
    "id": "bZGCWFjCakhG"
   },
   "outputs": [],
   "source": []
  },
  {
   "cell_type": "code",
   "execution_count": 9,
   "metadata": {
    "colab": {
     "base_uri": "https://localhost:8080/",
     "height": 35
    },
    "colab_type": "code",
    "executionInfo": {
     "elapsed": 11915,
     "status": "ok",
     "timestamp": 1597315287705,
     "user": {
      "displayName": "Fr Schu",
      "photoUrl": "",
      "userId": "09731992798374122010"
     },
     "user_tz": -180
    },
    "id": "wOhQOEhgVsw6",
    "outputId": "5a8811da-42f1-4bd3-ed13-50430c6a31ac"
   },
   "outputs": [
    {
     "name": "stdout",
     "output_type": "stream",
     "text": [
      "not defined\n"
     ]
    }
   ],
   "source": [
    "# Load model\n",
    "SAVE = 'saved_models/sst_lstm_nlayers_1_nhid_1024_emb_pretrained_fix_dim_100_dropout_00_weight_decay_0000_seed_4375.pt'\n",
    "\n",
    "data_file = SAVE\n",
    "with open(data_file, 'rb') as f:\n",
    "    res = torch.load(f, map_location=torch.device(device))\n",
    "    state_dict_init = res['state_dict_init']\n",
    "    state_dict_final = res['state_dict_final']\n",
    "    loss_acc = res['loss_acc']\n",
    "    try:\n",
    "        trunc_loss_acc = res['trunc_loss_acc']\n",
    "        trunc_ranks = res['trunc_ranks']\n",
    "    except:\n",
    "        print('not defined')\n",
    "\n",
    "train_loss, valid_loss, train_acc, valid_acc = loss_acc.T\n",
    "N_EPOCHS = len(train_loss)\n",
    "\n",
    "# Obtain dimensions\n",
    "INPUT_DIM, EMB_DIM = state_dict_init[\"encoder.weight\"].shape\n",
    "OUTPUT_DIM, HIDDEN_DIM = state_dict_init[\"decoder.weight\"].shape\n",
    "N_LAYERS = max([int(key[-1])  \n",
    "                for key in state_dict_init.keys() \n",
    "                if key[-3:-1] == '_l']) + 1\n",
    "BIDIRECTIONAL = False\n",
    "DROPOUT = 0\n",
    "try:\n",
    "    PAD_IDX = TEXT.vocab.stoi[TEXT.pad_token]\n",
    "except:\n",
    "    PAD_IDX = 1\n",
    "\n",
    "# Instantiate\n",
    "model = RNN(RNN_TYPE, INPUT_DIM, EMB_DIM, HIDDEN_DIM, OUTPUT_DIM, N_LAYERS, \n",
    "            BIDIRECTIONAL, DROPOUT, PAD_IDX, TRAIN_EMB)"
   ]
  },
  {
   "cell_type": "code",
   "execution_count": 9,
   "metadata": {
    "colab": {},
    "colab_type": "code",
    "executionInfo": {
     "elapsed": 822,
     "status": "ok",
     "timestamp": 1597315290569,
     "user": {
      "displayName": "Fr Schu",
      "photoUrl": "",
      "userId": "09731992798374122010"
     },
     "user_tz": -180
    },
    "id": "nsoE8DO6Vs2X"
   },
   "outputs": [],
   "source": []
  },
  {
   "cell_type": "code",
   "execution_count": 10,
   "metadata": {
    "colab": {},
    "colab_type": "code",
    "executionInfo": {
     "elapsed": 478,
     "status": "ok",
     "timestamp": 1597315290573,
     "user": {
      "displayName": "Fr Schu",
      "photoUrl": "",
      "userId": "09731992798374122010"
     },
     "user_tz": -180
    },
    "id": "4XYr1tDIZn38"
   },
   "outputs": [],
   "source": [
    "\n",
    "if BINARY_LABELS:\n",
    "    # Binary cross-entropy loss with logits\n",
    "    criterion = nn.BCEWithLogitsLoss().to(device)\n",
    "    # Binary accuracy\n",
    "    def accuracy(preds, y):\n",
    "        #round predictions to the closest integer\n",
    "        rounded_preds = torch.round(torch.sigmoid(preds))\n",
    "        correct = (rounded_preds == y).float() #convert into float for division \n",
    "        acc = correct.sum() / len(correct)\n",
    "        return acc\n",
    "else:\n",
    "    # Cross-entropy loss\n",
    "    criterion = nn.CrossEntropyLoss().to(device)\n",
    "    # Categorical accuracy\n",
    "    def accuracy(preds, y):\n",
    "        \"\"\" Categorical accuracy for multiple classes.\"\"\"\n",
    "        max_preds = preds.argmax(dim=1, keepdim=True) # get the index of the max probability\n",
    "        correct = max_preds.squeeze(1).eq(y)\n",
    "        return correct.sum() / torch.FloatTensor([y.shape[0]]).to(device)\n",
    "        \n",
    "def evaluate(model, iterator, criterion):\n",
    "    epoch_loss = 0\n",
    "    epoch_acc = 0\n",
    "    model.eval()\n",
    "    with torch.no_grad():\n",
    "        for batch in iterator:\n",
    "            predictions = model(batch.text)\n",
    "            loss = criterion(predictions, batch.label)\n",
    "            acc = accuracy(predictions, batch.label)\n",
    "            epoch_loss += loss.item()\n",
    "            epoch_acc += acc.item()\n",
    "    return epoch_loss / len(iterator), epoch_acc / len(iterator)\n",
    "\n",
    "def epoch_time(start_time, end_time):\n",
    "    elapsed_time = end_time - start_time\n",
    "    elapsed_mins = int(elapsed_time / 60)\n",
    "    elapsed_secs = int(elapsed_time - (elapsed_mins * 60))\n",
    "    return elapsed_mins, elapsed_secs\n"
   ]
  },
  {
   "cell_type": "code",
   "execution_count": 14,
   "metadata": {
    "colab": {
     "base_uri": "https://localhost:8080/",
     "height": 1000
    },
    "colab_type": "code",
    "executionInfo": {
     "elapsed": 344083,
     "status": "ok",
     "timestamp": 1597316421326,
     "user": {
      "displayName": "Fr Schu",
      "photoUrl": "",
      "userId": "09731992798374122010"
     },
     "user_tz": -180
    },
    "id": "9AGbY9o-3lk1",
    "outputId": "95f34b26-7ad3-42b0-bfa0-fbd8ed1952f9"
   },
   "outputs": [
    {
     "name": "stdout",
     "output_type": "stream",
     "text": [
      "0 0 0\n"
     ]
    },
    {
     "name": "stderr",
     "output_type": "stream",
     "text": [
      "/usr/local/lib/python3.6/dist-packages/torchtext/data/batch.py:23: UserWarning: Batch class will be retired in the 0.8.0 release and moved to torchtext.legacy. Please see 0.7.0 release notes for further information.\n",
      "  warnings.warn('{} class will be retired in the 0.8.0 release and moved to torchtext.legacy. Please see 0.7.0 release notes for further information.'.format(self.__class__.__name__), UserWarning)\n"
     ]
    },
    {
     "name": "stdout",
     "output_type": "stream",
     "text": [
      "0 1 16\n",
      "0 2 32\n",
      "0 3 48\n",
      "0 4 64\n",
      "0 5 80\n",
      "0 6 96\n",
      "0 7 112\n",
      "0 8 128\n",
      "0 9 144\n",
      "0 10 160\n",
      "0 11 176\n",
      "0 12 192\n",
      "0 13 208\n",
      "0 14 224\n",
      "0 15 240\n",
      "0 16 256\n",
      "0 17 272\n",
      "0 18 288\n",
      "0 19 304\n",
      "0 20 320\n",
      "0 21 336\n",
      "0 22 352\n",
      "0 23 368\n",
      "0 24 384\n",
      "0 25 400\n",
      "0 26 416\n",
      "0 27 432\n",
      "0 28 448\n",
      "0 29 464\n",
      "0 30 480\n",
      "0 31 496\n",
      "0 32 512\n",
      "0 33 528\n",
      "0 34 544\n",
      "0 35 560\n",
      "0 36 576\n",
      "0 37 592\n",
      "0 38 608\n",
      "0 39 624\n",
      "0 40 640\n",
      "0 41 656\n",
      "0 42 672\n",
      "0 43 688\n",
      "0 44 704\n",
      "0 45 720\n",
      "0 46 736\n",
      "0 47 752\n",
      "0 48 768\n",
      "0 49 784\n",
      "0 50 800\n",
      "0 51 816\n",
      "0 52 832\n",
      "0 53 848\n",
      "0 54 864\n",
      "0 55 880\n",
      "0 56 896\n",
      "0 57 912\n",
      "0 58 928\n",
      "0 59 944\n",
      "0 60 960\n",
      "0 61 976\n",
      "0 62 992\n",
      "0 63 1008\n",
      "1 0 0\n",
      "1 1 16\n",
      "1 2 32\n",
      "1 3 48\n",
      "1 4 64\n",
      "1 5 80\n",
      "1 6 96\n",
      "1 7 112\n",
      "1 8 128\n",
      "1 9 144\n",
      "1 10 160\n",
      "1 11 176\n",
      "1 12 192\n",
      "1 13 208\n",
      "1 14 224\n",
      "1 15 240\n",
      "1 16 256\n",
      "1 17 272\n",
      "1 18 288\n",
      "1 19 304\n",
      "1 20 320\n",
      "1 21 336\n",
      "1 22 352\n",
      "1 23 368\n",
      "1 24 384\n",
      "1 25 400\n",
      "1 26 416\n",
      "1 27 432\n",
      "1 28 448\n",
      "1 29 464\n",
      "1 30 480\n",
      "1 31 496\n",
      "1 32 512\n",
      "1 33 528\n",
      "1 34 544\n",
      "1 35 560\n",
      "1 36 576\n",
      "1 37 592\n",
      "1 38 608\n",
      "1 39 624\n",
      "1 40 640\n",
      "1 41 656\n",
      "1 42 672\n",
      "1 43 688\n",
      "1 44 704\n",
      "1 45 720\n",
      "1 46 736\n",
      "1 47 752\n",
      "1 48 768\n",
      "1 49 784\n",
      "1 50 800\n",
      "1 51 816\n",
      "1 52 832\n",
      "1 53 848\n",
      "1 54 864\n",
      "1 55 880\n",
      "1 56 896\n",
      "1 57 912\n",
      "1 58 928\n",
      "1 59 944\n",
      "1 60 960\n",
      "1 61 976\n",
      "1 62 992\n",
      "1 63 1008\n",
      "Computing truncation loss took 343.4 sec.\n"
     ]
    }
   ],
   "source": [
    "from collections import OrderedDict\n",
    "\n",
    "# Evaluate truncated networks\n",
    "max_rank = HIDDEN_DIM\n",
    "rank_step = HIDDEN_DIM // 64\n",
    "trunc_ranks = np.arange(0, max_rank, rank_step)\n",
    "n_rank = len(trunc_ranks)\n",
    "\n",
    "# Keys\n",
    "keys_rnn = model.keys_rnn\n",
    "n_states = len(keys_rnn)\n",
    "nhid = HIDDEN_DIM \n",
    "\n",
    "svd_blockwise = False\n",
    "\n",
    "############################################################################\n",
    "trunc_loss_acc = np.zeros((2, n_rank, 2))\n",
    "\n",
    "time0 = time.time()\n",
    "for j in range(2):\n",
    "    trunc_dw = j == 0\n",
    "    for i, rank in enumerate(trunc_ranks):\n",
    "        print(j, i, rank)\n",
    "\n",
    "        # Weights and biases for truncated model\n",
    "        state_dict_trunc = OrderedDict()\n",
    "        \n",
    "        # Weights\n",
    "        for key in state_dict_final.keys():\n",
    "            # Truncate only 'inner' weights with NxN\n",
    "            cond_trunc = (\n",
    "                ('rnn.weight' in key) \n",
    "                * (('hh' in key) or ('ih' in key))\n",
    "                * (not 'ih_l0' in key))\n",
    "            if cond_trunc:\n",
    "                # print(\"Truncate\", key)\n",
    "                if svd_blockwise:\n",
    "                    # LSTM and GRU cells have combined weights for the effect of the\n",
    "                    # last hidden state on the new state and the gates. \n",
    "                    w_trunc_rnn = np.zeros((n_states * nhid, nhid))\n",
    "                    for k, key_rnn in enumerate(keys_rnn):\n",
    "                        # Get weights\n",
    "                        w = state_dict_final[key][k*nhid : (k+1)*nhid]\n",
    "                        # Move to cpu\n",
    "                        w = w.cpu()\n",
    "                        if trunc_dw:\n",
    "                            # Obtain changes\n",
    "                            w0 = state_dict_init[key][k*nhid : (k+1)*nhid]\n",
    "                            w0 = w0.cpu()\n",
    "                            dw = w - w0\n",
    "                            # Truncate dw at given rank:\n",
    "                            u, s, vT = np.linalg.svd(dw, full_matrices=False)\n",
    "                            dw_trunc = (u[:, :rank] * s[None, :rank]) @ vT[:rank]\n",
    "                            # Unite with initial connecitivity\n",
    "                            w_trunc_rnn[k*nhid : (k+1)*nhid] = w0 + dw_trunc\n",
    "                        else:\n",
    "                            # Truncate w at given rank:\n",
    "                            u, s, vT = np.linalg.svd(w, full_matrices=False)\n",
    "                            w_trunc = (u[:, :rank] * s[None, :rank]) @ vT[:rank]\n",
    "                            w_trunc_rnn[k*nhid : (k+1)*nhid] = w_trunc\n",
    "                    # Add to state dict\n",
    "                    w_trunc_rnn = torch.from_numpy(w_trunc_rnn).cuda()\n",
    "                    state_dict_trunc[key] = w_trunc_rnn\n",
    "                else:\n",
    "                    # Get weights\n",
    "                    w = state_dict_final[key]\n",
    "                    # Move to cpu\n",
    "                    w = w.cpu()\n",
    "                    if trunc_dw:\n",
    "                        # Obtain changes\n",
    "                        w0 = state_dict_init[key]\n",
    "                        w0 = w0.cpu()\n",
    "                        dw = w - w0\n",
    "                        # Truncate dw at given rank:\n",
    "                        u, s, vT = np.linalg.svd(dw, full_matrices=False)\n",
    "                        dw_trunc = (u[:, :rank] * s[None, :rank]) @ vT[:rank]\n",
    "                        # Unite with initial connecitivity\n",
    "                        w_trunc_rnn = w0.numpy() + dw_trunc\n",
    "                    else:\n",
    "                        # Truncate w at given rank:\n",
    "                        u, s, vT = np.linalg.svd(w, full_matrices=False)\n",
    "                        w_trunc = (u[:, :rank] * s[None, :rank]) @ vT[:rank]\n",
    "                        w_trunc_rnn = w_trunc\n",
    "                # Add to state dict\n",
    "                w_trunc_rnn = torch.from_numpy(w_trunc_rnn).cuda()\n",
    "                state_dict_trunc[key] = w_trunc_rnn\n",
    "            else:\n",
    "                # print(\"Leave\", key)\n",
    "                state_dict_trunc[key] = copy.deepcopy(state_dict_final[key])\n",
    "        \n",
    "        # Define truncated model\n",
    "        model_trunc = RNN(RNN_TYPE, INPUT_DIM, EMB_DIM, HIDDEN_DIM, OUTPUT_DIM, \n",
    "                          N_LAYERS, BIDIRECTIONAL, DROPOUT, PAD_IDX, TRAIN_EMB)\n",
    "        model_trunc.load_state_dict(state_dict_trunc)\n",
    "        # Evaluate\n",
    "        model_trunc.to(device)\n",
    "        trunc_loss_acc[j, i] = evaluate(model_trunc, valid_iterator, criterion)\n",
    "        del model_trunc\n",
    "print('Computing truncation loss took %.1f sec.' % (time.time() - time0))\n",
    "\n"
   ]
  },
  {
   "cell_type": "code",
   "execution_count": 7,
   "metadata": {
    "colab": {
     "base_uri": "https://localhost:8080/",
     "height": 35
    },
    "colab_type": "code",
    "executionInfo": {
     "elapsed": 572,
     "status": "ok",
     "timestamp": 1597315008133,
     "user": {
      "displayName": "Fr Schu",
      "photoUrl": "",
      "userId": "09731992798374122010"
     },
     "user_tz": -180
    },
    "id": "dIjsTeMrZKM8",
    "outputId": "fc10af5a-aa35-4642-f7f0-0b5bab66d4f6"
   },
   "outputs": [
    {
     "data": {
      "text/plain": [
       "device(type='cuda', index=0)"
      ]
     },
     "execution_count": 7,
     "metadata": {
      "tags": []
     },
     "output_type": "execute_result"
    }
   ],
   "source": []
  },
  {
   "cell_type": "code",
   "execution_count": 15,
   "metadata": {
    "colab": {
     "base_uri": "https://localhost:8080/",
     "height": 388
    },
    "colab_type": "code",
    "executionInfo": {
     "elapsed": 1152,
     "status": "ok",
     "timestamp": 1597316483472,
     "user": {
      "displayName": "Fr Schu",
      "photoUrl": "",
      "userId": "09731992798374122010"
     },
     "user_tz": -180
    },
    "id": "H1zzbRpMxwU2",
    "outputId": "7902c5e8-3f7b-4c91-e33c-8803d16468be"
   },
   "outputs": [
    {
     "data": {
      "image/png": "[encoded data removed]",
      "text/plain": [
       "<Figure size 432x432 with 2 Axes>"
      ]
     },
     "metadata": {
      "tags": []
     },
     "output_type": "display_data"
    }
   ],
   "source": [
    "# Plot loss and accuracy over training epochs\n",
    "fig = plt.figure(figsize=(6, 6), facecolor='w')\n",
    "axes = fig.subplots(2, 1, sharex=True)\n",
    "axes = axes[:, None]\n",
    "epochs = np.arange(N_EPOCHS)\n",
    "train_loss, valid_loss, train_acc, valid_acc = loss_acc.T\n",
    "\n",
    "ax0, ax1 = axes[:, 0]\n",
    "\n",
    "for j in range(2):\n",
    "    # ls = ['-', '--'][j]\n",
    "    ls = '-'\n",
    "    lbl = ['Truncate dw', 'Truncate w'][j]\n",
    "    # c = colors[0]\n",
    "    c = ['0.3', '0.8'][j]\n",
    "\n",
    "    trunc_loss, trunc_acc = trunc_loss_acc[j].T\n",
    "    ax0.plot(trunc_ranks, trunc_loss, ls, c=c, label=lbl)\n",
    "    ax1.plot(trunc_ranks, trunc_acc, ls, c=c, label=lbl)\n",
    "\n",
    "# Initial and final loss and accuracy\n",
    "c = '0.5'\n",
    "ax0.axhline(valid_loss[0], ls='--', c=c, label='Initial')\n",
    "ax1.axhline(valid_acc[0], ls=':', c=c, label='Initial')\n",
    "ax0.axhline(valid_loss[-1], ls='--', c=c, label='Final')\n",
    "ax1.axhline(valid_acc[-1], ls=':', c=c, label='Final')\n",
    "\n",
    "ax0.legend()\n",
    "# ax0.axhline(0, c='0.5', zorder=-1)\n",
    "# ax1.axhline(0, c='0.5', zorder=-1)\n",
    "ax0.set_ylabel('Loss')\n",
    "ax1.set_ylabel('Accuracy')\n",
    "ax1.set_xlabel(\"Truncation rank\")\n",
    "\n",
    "plt.show(fig)\n",
    "plt.close(fig)"
   ]
  },
  {
   "cell_type": "code",
   "execution_count": 16,
   "metadata": {
    "colab": {
     "base_uri": "https://localhost:8080/",
     "height": 55
    },
    "colab_type": "code",
    "executionInfo": {
     "elapsed": 561,
     "status": "ok",
     "timestamp": 1597316497776,
     "user": {
      "displayName": "Fr Schu",
      "photoUrl": "",
      "userId": "09731992798374122010"
     },
     "user_tz": -180
    },
    "id": "lXlfX_01LggQ",
    "outputId": "99c04279-9bdb-49d8-d92c-969532748c3c"
   },
   "outputs": [
    {
     "name": "stdout",
     "output_type": "stream",
     "text": [
      "Saved initial and final model to 'saved_models/sst_lstm_nlayers_1_nhid_1024_emb_pretrained_fix_dim_100_dropout_00_weight_decay_0000_seed_4375.pt'\n"
     ]
    }
   ],
   "source": [
    "\n",
    "\n",
    "# Save everything\n",
    "state_dict_final = model.state_dict()\n",
    "with open(SAVE, 'wb') as f:\n",
    "    torch.save({'state_dict_init': state_dict_init,\n",
    "                'state_dict_final': state_dict_final,\n",
    "                'loss_acc': loss_acc,\n",
    "                'trunc_loss_acc': trunc_loss_acc,\n",
    "                'trunc_ranks': trunc_ranks,\n",
    "                'svd_blockwise': svd_blockwise,\n",
    "                }, f)\n",
    "# print(\"Saved last model to '%s'\" % SAVE)\n",
    "print(\"Saved initial and final model to '%s'\" % SAVE)"
   ]
  },
  {
   "cell_type": "code",
   "execution_count": 7,
   "metadata": {
    "colab": {},
    "colab_type": "code",
    "executionInfo": {
     "elapsed": 501275,
     "status": "ok",
     "timestamp": 1597259520916,
     "user": {
      "displayName": "Fr Schu",
      "photoUrl": "",
      "userId": "09731992798374122010"
     },
     "user_tz": -180
    },
    "id": "r3SQVwED-uO0"
   },
   "outputs": [],
   "source": []
  },
  {
   "cell_type": "code",
   "execution_count": 6,
   "metadata": {
    "colab": {},
    "colab_type": "code",
    "executionInfo": {
     "elapsed": 97039,
     "status": "ok",
     "timestamp": 1597253655977,
     "user": {
      "displayName": "Fr Schu",
      "photoUrl": "",
      "userId": "09731992798374122010"
     },
     "user_tz": -180
    },
    "id": "55LexzG_-uO5"
   },
   "outputs": [],
   "source": []
  },
  {
   "cell_type": "code",
   "execution_count": null,
   "metadata": {
    "colab": {},
    "colab_type": "code",
    "id": "Lnl1V2-D-uO-"
   },
   "outputs": [],
   "source": []
  }
 ],
 "metadata": {
  "accelerator": "GPU",
  "colab": {
   "name": "sentiment_analysis.ipynb",
   "provenance": []
  },
  "kernelspec": {
   "display_name": "Python 3",
   "language": "python",
   "name": "python3"
  },
  "language_info": {
   "codemirror_mode": {
    "name": "ipython",
    "version": 3
   },
   "file_extension": ".py",
   "mimetype": "text/x-python",
   "name": "python",
   "nbconvert_exporter": "python",
   "pygments_lexer": "ipython3",
   "version": "3.8.3"
  }
 },
 "nbformat": 4,
 "nbformat_minor": 4
}
